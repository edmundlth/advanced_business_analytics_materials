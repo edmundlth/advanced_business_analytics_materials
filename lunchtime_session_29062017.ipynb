{
 "cells": [
  {
   "cell_type": "markdown",
   "metadata": {
    "collapsed": true
   },
   "source": [
    "# Review for Lecture on 13/06/2017 \n",
    "---\n",
    "\n",
    "## General remarks: \n",
    "---\n",
    "We will learn about \n",
    "  - Elements of a good data visualisation: What makes \n",
    "  - Tools available:\n",
    "    - Python is great! \n",
    "    - Matplotlib: The grandfather of most other tools in python. \n",
    "    - Numpy: Essential for numerical calculations. \n",
    "    - Pandas: provides data storage types such as \"DataFrame\" (think Pythonic Excel) and \"Series\" together with tools to manipulate them. \n",
    "    - Seaborn: Great for early stage data explorations. \n",
    "    - Bokeh, Plotly: interactivity and online tools\n",
    "    - ...\n",
    "  - One of the important thing you should learn: How to find and understand the tools you need for your visualisation task. Some useful references for tool in python include\n",
    "     - Pandas documentation and cookbook: http://pandas.pydata.org/pandas-docs/stable/\n",
    "     - Matplotlib documentation, gallery: http://matplotlib.org/\n",
    "     - ... Google will get you there. Read widely and actively to visualisation task to know the keywords to search. Good foundation in algorithmic thinking and knowledge about Python help. \n",
    "\n",
    "  \n",
    "Regarding Data visualisation itself:\n",
    "  \n",
    "  - It is a process. \n",
    "     - **Exploration**: Analyse your dataset with an open mind. You never know if your assumptions or biases are correct. \n",
    "     - **Exposition**. Pin down what you want to inform your audience and then\n",
    "     - **Design**: think about what is the best way to present them. \n",
    "  - Don't make your presentation looks \"busy\", be aware of your *data-to-ink ratio*. Make sure each element you add into your visualisation serves a purpose and serves it well. \n",
    "  - Beware of summary statistics, they can be misleading. Check for outliars. Do a scatter plot, it reveals more structure in the data than summary statistics can. \n",
    "  - Encodings (various forms information)\n",
    "    - numbers and strings (but humans don't process these well, they are for machines)\n",
    "    - Positions (points in 1, 2 or 3 dimensional space, height, width) \n",
    "    - Colours (grey scale, RGB, HLS, HSV, contrasts)  \n",
    "    - Shape\n",
    "    - Kinetics (movements or what the brain will intepret as movement) \n",
    "    - ...\n",
    "\n",
    "\n",
    "---\n",
    "## Running Python for data visualisation\n",
    "--- \n",
    "*Do ask me if you have any issues / questions regarding installing Miniconda and setting up the `dataviz` environment.* \n",
    "\n",
    "There are various ways to work with Python. For the purpose of data analysis, here are some popular ones: \n",
    "\n",
    "  - Spyder\n",
    "  - IPython \n",
    "  - Jupyter (you're looking at one)\n",
    "\n",
    "It is highly recommended to develop your code in a controlled \"Python environment\", i.e. a separate Python interpreter, libraries / packages for each project. This ensure that you know what packages were needed for the project and avoiding polluting the working environment of other projects. `Anaconda` (and `Miniconda` you downloaded in lecture) is serves this purpose as well as providing convenient ways to download the packages you required in a few keystrokes. In lecture, you created the `dataviz` environment using the specification given by `dataviz.yml` which gives you access to standard data analytic packages such as `pandas`, `seaborn`, `numpy`, `scipy` ... When you *activate* the `dataviz` environment using the command ``source activate dataviz``, you have now access to these packages and any modifications will be contained in this environment only. \n",
    "\n",
    "---\n",
    "## On Tidy Data\n",
    "---\n",
    "Reference: http://vita.had.co.nz/papers/tidy-data.pdf (by Hadley Wickham)  \n",
    "80% (so it is said) of data analytic effort goes into tidying up raw data into a form suitable for explorations, analysis, visualisation, etc ... \"Tidy data\" is about adhering, whenever possible, to a standard or convention of data organisation that link structure of data (for our purpose: rows and columns) to its meaning (variables or observations). \n",
    "\n",
    "With the mantra that \"all tidy data are alike\" (that's why its a standard), we require that tidy data\n",
    "\n",
    "  - Columns are variables\n",
    "  - Rows are observations\n",
    "  - Different tables for different observation unit\n",
    "Advantage? \n",
    "\n",
    "  - It provides a uniform way of thinking and talking about data. \n",
    "    - You can talk about \"rows\" and others will know you're taking about the individual observations. \"That is large dataset!\" translate to \"the data have a lot of rows\" which translate to \"the data has a lot of observations\". Similarly, \"this dataset is tall\", \"that's too many columns!\" only make sense when we know what conventions we adhere to.\n",
    "  - Standard data analysis tools often assume tidy data format. And the code you wrote on your own to analyse the data will be easier to follow if you conform to tidy data convention. \n",
    "    - e.g. seaborn.boxplot(data=data) produce a boxplot for each column since it assumes each column corresponds to a variable of interest.\n",
    "\n",
    "\n",
    "\n",
    "\n",
    "\n",
    "----\n",
    "#### Notes\n",
    "----\n",
    "You might want to be ready to do a simple tidy data example to reinforce their knowledge, and if time permits, a strip/jitter/swarm plot as well.\n"
   ]
  },
  {
   "cell_type": "code",
   "execution_count": 96,
   "metadata": {
    "collapsed": true
   },
   "outputs": [],
   "source": [
    "import numpy as np\n",
    "import pandas as pd\n",
    "import matplotlib.pyplot as plt\n",
    "import seaborn.apionly as sns #.apionly preserves prevents seaborn overriding matplotlib styles.\n",
    "\n",
    "# This command tells Jupyter notebook to always display plots as \"inline output\". \n",
    "%matplotlib inline "
   ]
  },
  {
   "cell_type": "markdown",
   "metadata": {},
   "source": [
    "---\n",
    "## Some data tidying\n",
    "---\n",
    "Below shows some examples of how I will read the datasets provided in `mbs-datasets` into a Pandas dataframe. I will convert the into tidy form if they are not already in that form. \n",
    "\n",
    "These aren't the only correct ways to do it. Some decisions (such as what do use as index columns, what rows to skip) are context dependent and sometimes a matter of style. \n",
    "\n",
    "\n",
    "#### Notes:\n",
    " \n",
    "  - A convention that I adopted is to name variables that refer to a ` Pandas.DataFrame ` object with a ` _df ` suffix. \n",
    "  - Each of these takes a few trials. You first read in the dataset naively and see what modification you can do to it. To understand the code, it is highly recommended that you try it yourself before you look at what I have done. Do tell me if you strongly disagree with what I have done. \n",
    "  - Read (just roughly) documentation of these parsers (e.g. `read_csv`, `read_excel`). \n",
    "\n",
    "---"
   ]
  },
  {
   "cell_type": "markdown",
   "metadata": {},
   "source": [
    "#### Data: `gapminder-health-income.csv`\n",
    "- The parser will automatically infer that the first row in the file is a header. \n",
    "- We manually specify that we only want the columns with index 1 to 4 (i.e. skip the first column). \n",
    "- Of these columns the first one (index 0 in the chosen columns, index 1 in the original file) is chosen as the index column\n",
    "- This is a tidy data."
   ]
  },
  {
   "cell_type": "code",
   "execution_count": 69,
   "metadata": {},
   "outputs": [],
   "source": [
    "health_income_df = pd.read_csv(\"./mbs-datasets/gapminder-health-income.csv\", usecols=range(1, 5), index_col=0)\n",
    "# uncomment the row bellow to see result\n",
    "#health_income_df  "
   ]
  },
  {
   "cell_type": "markdown",
   "metadata": {},
   "source": [
    "#### Data: `air-quality-exposure.csv`\n",
    "- Skipped the first row in the file since I consider it a \"meta-data\". It gives information about what the numbers means. There are various ways to handle this including: recording it some where in your code (e.g. variable name), or you can manually change your dataframe's header to incorporate that information. \n",
    "- There are missing data which is noted in the file as `No data`. We can alert the parser about this using the `na_values=` option. If missing data is denoted in more than one ways (e.g. `No data`, `no data`, `null`, `<empty>`), we should alert the parser about all of them so that missing data can be treated uniformly during analysis. \n",
    "- Otherwise, this is a tidy data."
   ]
  },
  {
   "cell_type": "code",
   "execution_count": 71,
   "metadata": {},
   "outputs": [],
   "source": [
    "air_quality_exposure_2014_df = pd.read_csv(\"./mbs-datasets/air-quality-exposure.csv\", \n",
    "                                           skiprows=2, \n",
    "                                           index_col=0, \n",
    "                                           na_values=['No data'])\n",
    "#air_quality_exposure_2014_df"
   ]
  },
  {
   "cell_type": "markdown",
   "metadata": {},
   "source": [
    "---\n",
    "### Data Tidying Examples\n",
    "---"
   ]
  },
  {
   "cell_type": "code",
   "execution_count": 142,
   "metadata": {},
   "outputs": [
    {
     "data": {
      "text/html": [
       "<div>\n",
       "<style>\n",
       "    .dataframe thead tr:only-child th {\n",
       "        text-align: right;\n",
       "    }\n",
       "\n",
       "    .dataframe thead th {\n",
       "        text-align: left;\n",
       "    }\n",
       "\n",
       "    .dataframe tbody tr th {\n",
       "        vertical-align: top;\n",
       "    }\n",
       "</style>\n",
       "<table border=\"1\" class=\"dataframe\">\n",
       "  <thead>\n",
       "    <tr style=\"text-align: right;\">\n",
       "      <th></th>\n",
       "      <th>country</th>\n",
       "      <th>year</th>\n",
       "      <th>cases</th>\n",
       "      <th>population</th>\n",
       "      <th>rate</th>\n",
       "    </tr>\n",
       "  </thead>\n",
       "  <tbody>\n",
       "    <tr>\n",
       "      <th>0</th>\n",
       "      <td>Afghanistan</td>\n",
       "      <td>1999</td>\n",
       "      <td>745</td>\n",
       "      <td>19987071</td>\n",
       "      <td>0.372741</td>\n",
       "    </tr>\n",
       "    <tr>\n",
       "      <th>1</th>\n",
       "      <td>Afghanistan</td>\n",
       "      <td>2000</td>\n",
       "      <td>2666</td>\n",
       "      <td>20595360</td>\n",
       "      <td>1.294466</td>\n",
       "    </tr>\n",
       "    <tr>\n",
       "      <th>2</th>\n",
       "      <td>Brazil</td>\n",
       "      <td>1999</td>\n",
       "      <td>37737</td>\n",
       "      <td>172006362</td>\n",
       "      <td>2.193930</td>\n",
       "    </tr>\n",
       "    <tr>\n",
       "      <th>3</th>\n",
       "      <td>Brazil</td>\n",
       "      <td>2000</td>\n",
       "      <td>80488</td>\n",
       "      <td>174504898</td>\n",
       "      <td>4.612363</td>\n",
       "    </tr>\n",
       "    <tr>\n",
       "      <th>4</th>\n",
       "      <td>China</td>\n",
       "      <td>1999</td>\n",
       "      <td>212258</td>\n",
       "      <td>1272915272</td>\n",
       "      <td>1.667495</td>\n",
       "    </tr>\n",
       "    <tr>\n",
       "      <th>5</th>\n",
       "      <td>China</td>\n",
       "      <td>2000</td>\n",
       "      <td>213766</td>\n",
       "      <td>1280428583</td>\n",
       "      <td>1.669488</td>\n",
       "    </tr>\n",
       "  </tbody>\n",
       "</table>\n",
       "</div>"
      ],
      "text/plain": [
       "       country  year   cases  population      rate\n",
       "0  Afghanistan  1999     745    19987071  0.372741\n",
       "1  Afghanistan  2000    2666    20595360  1.294466\n",
       "2       Brazil  1999   37737   172006362  2.193930\n",
       "3       Brazil  2000   80488   174504898  4.612363\n",
       "4        China  1999  212258  1272915272  1.667495\n",
       "5        China  2000  213766  1280428583  1.669488"
      ]
     },
     "execution_count": 142,
     "metadata": {},
     "output_type": "execute_result"
    },
    {
     "data": {
      "image/png": "[encoded data removed]",
      "text/plain": [
       "<matplotlib.figure.Figure at 0x11ae0acf8>"
      ]
     },
     "metadata": {},
     "output_type": "display_data"
    }
   ],
   "source": [
    "table1 = pd.read_csv('./mbs-datasets/tidy/table1.csv')\n",
    "table1['rate'] = (table1['cases'] /\n",
    "                  table1['population'] * 10**4)\n",
    "                  \n",
    "table1.groupby('year').sum()['cases']\n",
    "sns.pointplot(x='year', y='rate', hue='country',\n",
    "              data=table1)\n",
    "table1"
   ]
  },
  {
   "cell_type": "code",
   "execution_count": 95,
   "metadata": {},
   "outputs": [
    {
     "data": {
      "text/html": [
       "<div>\n",
       "<style>\n",
       "    .dataframe thead tr:only-child th {\n",
       "        text-align: right;\n",
       "    }\n",
       "\n",
       "    .dataframe thead th {\n",
       "        text-align: left;\n",
       "    }\n",
       "\n",
       "    .dataframe tbody tr th {\n",
       "        vertical-align: top;\n",
       "    }\n",
       "</style>\n",
       "<table border=\"1\" class=\"dataframe\">\n",
       "  <thead>\n",
       "    <tr style=\"text-align: right;\">\n",
       "      <th></th>\n",
       "      <th>type</th>\n",
       "      <th>cases</th>\n",
       "      <th>population</th>\n",
       "    </tr>\n",
       "    <tr>\n",
       "      <th>year</th>\n",
       "      <th>country</th>\n",
       "      <th></th>\n",
       "      <th></th>\n",
       "    </tr>\n",
       "  </thead>\n",
       "  <tbody>\n",
       "    <tr>\n",
       "      <th rowspan=\"3\" valign=\"top\">1999</th>\n",
       "      <th>Afghanistan</th>\n",
       "      <td>745</td>\n",
       "      <td>19987071</td>\n",
       "    </tr>\n",
       "    <tr>\n",
       "      <th>Brazil</th>\n",
       "      <td>37737</td>\n",
       "      <td>172006362</td>\n",
       "    </tr>\n",
       "    <tr>\n",
       "      <th>China</th>\n",
       "      <td>212258</td>\n",
       "      <td>1272915272</td>\n",
       "    </tr>\n",
       "    <tr>\n",
       "      <th rowspan=\"3\" valign=\"top\">2000</th>\n",
       "      <th>Afghanistan</th>\n",
       "      <td>2666</td>\n",
       "      <td>20595360</td>\n",
       "    </tr>\n",
       "    <tr>\n",
       "      <th>Brazil</th>\n",
       "      <td>80488</td>\n",
       "      <td>174504898</td>\n",
       "    </tr>\n",
       "    <tr>\n",
       "      <th>China</th>\n",
       "      <td>213766</td>\n",
       "      <td>1280428583</td>\n",
       "    </tr>\n",
       "  </tbody>\n",
       "</table>\n",
       "</div>"
      ],
      "text/plain": [
       "type               cases  population\n",
       "year country                        \n",
       "1999 Afghanistan     745    19987071\n",
       "     Brazil        37737   172006362\n",
       "     China        212258  1272915272\n",
       "2000 Afghanistan    2666    20595360\n",
       "     Brazil        80488   174504898\n",
       "     China        213766  1280428583"
      ]
     },
     "execution_count": 95,
     "metadata": {},
     "output_type": "execute_result"
    }
   ],
   "source": [
    "table2.pivot_table(index=['year', 'country'], columns='type', values='count')"
   ]
  },
  {
   "cell_type": "code",
   "execution_count": 127,
   "metadata": {},
   "outputs": [
    {
     "name": "stdout",
     "output_type": "stream",
     "text": [
      "        country  year        type       count\n",
      "0   Afghanistan  1999       cases         745\n",
      "1   Afghanistan  1999  population    19987071\n",
      "2   Afghanistan  2000       cases        2666\n",
      "3   Afghanistan  2000  population    20595360\n",
      "4        Brazil  1999       cases       37737\n",
      "5        Brazil  1999  population   172006362\n",
      "6        Brazil  2000       cases       80488\n",
      "7        Brazil  2000  population   174504898\n",
      "8         China  1999       cases      212258\n",
      "9         China  1999  population  1272915272\n",
      "10        China  2000       cases      213766\n",
      "11        China  2000  population  1280428583\n"
     ]
    },
    {
     "data": {
      "text/html": [
       "<div>\n",
       "<style>\n",
       "    .dataframe thead tr:only-child th {\n",
       "        text-align: right;\n",
       "    }\n",
       "\n",
       "    .dataframe thead th {\n",
       "        text-align: left;\n",
       "    }\n",
       "\n",
       "    .dataframe tbody tr th {\n",
       "        vertical-align: top;\n",
       "    }\n",
       "</style>\n",
       "<table border=\"1\" class=\"dataframe\">\n",
       "  <thead>\n",
       "    <tr style=\"text-align: right;\">\n",
       "      <th></th>\n",
       "      <th>type</th>\n",
       "      <th>cases</th>\n",
       "      <th>population</th>\n",
       "    </tr>\n",
       "    <tr>\n",
       "      <th>year</th>\n",
       "      <th>country</th>\n",
       "      <th></th>\n",
       "      <th></th>\n",
       "    </tr>\n",
       "  </thead>\n",
       "  <tbody>\n",
       "    <tr>\n",
       "      <th rowspan=\"3\" valign=\"top\">1999</th>\n",
       "      <th>Afghanistan</th>\n",
       "      <td>745</td>\n",
       "      <td>19987071</td>\n",
       "    </tr>\n",
       "    <tr>\n",
       "      <th>Brazil</th>\n",
       "      <td>37737</td>\n",
       "      <td>172006362</td>\n",
       "    </tr>\n",
       "    <tr>\n",
       "      <th>China</th>\n",
       "      <td>212258</td>\n",
       "      <td>1272915272</td>\n",
       "    </tr>\n",
       "    <tr>\n",
       "      <th rowspan=\"3\" valign=\"top\">2000</th>\n",
       "      <th>Afghanistan</th>\n",
       "      <td>2666</td>\n",
       "      <td>20595360</td>\n",
       "    </tr>\n",
       "    <tr>\n",
       "      <th>Brazil</th>\n",
       "      <td>80488</td>\n",
       "      <td>174504898</td>\n",
       "    </tr>\n",
       "    <tr>\n",
       "      <th>China</th>\n",
       "      <td>213766</td>\n",
       "      <td>1280428583</td>\n",
       "    </tr>\n",
       "  </tbody>\n",
       "</table>\n",
       "</div>"
      ],
      "text/plain": [
       "type               cases  population\n",
       "year country                        \n",
       "1999 Afghanistan     745    19987071\n",
       "     Brazil        37737   172006362\n",
       "     China        212258  1272915272\n",
       "2000 Afghanistan    2666    20595360\n",
       "     Brazil        80488   174504898\n",
       "     China        213766  1280428583"
      ]
     },
     "execution_count": 127,
     "metadata": {},
     "output_type": "execute_result"
    }
   ],
   "source": [
    "table2 = pd.read_csv('./mbs-datasets/tidy/table2.csv')\n",
    "print(table2)\n",
    "table2.pivot_table(index=('year', 'country'), values='count', columns='type')"
   ]
  },
  {
   "cell_type": "code",
   "execution_count": null,
   "metadata": {
    "collapsed": true
   },
   "outputs": [],
   "source": [
    "\n",
    "table3 = pd.read_csv('./mbs-datasets/tidy/table3.csv')\n",
    "table4a = pd.read_csv('./mbs-datasets/tidy/table4a.csv')\n",
    "table4b = pd.read_csv('./mbs-datasets/tidy/table4b.csv')\n"
   ]
  },
  {
   "cell_type": "code",
   "execution_count": 16,
   "metadata": {},
   "outputs": [
    {
     "name": "stdout",
     "output_type": "stream",
     "text": [
      "        country  year        type       count\n",
      "0   Afghanistan  1999       cases         745\n",
      "1   Afghanistan  1999  population    19987071\n",
      "2   Afghanistan  2000       cases        2666\n",
      "3   Afghanistan  2000  population    20595360\n",
      "4        Brazil  1999       cases       37737\n",
      "5        Brazil  1999  population   172006362\n",
      "6        Brazil  2000       cases       80488\n",
      "7        Brazil  2000  population   174504898\n",
      "8         China  1999       cases      212258\n",
      "9         China  1999  population  1272915272\n",
      "10        China  2000       cases      213766\n",
      "11        China  2000  population  1280428583\n"
     ]
    },
    {
     "data": {
      "text/html": [
       "<div>\n",
       "<style>\n",
       "    .dataframe thead tr:only-child th {\n",
       "        text-align: right;\n",
       "    }\n",
       "\n",
       "    .dataframe thead th {\n",
       "        text-align: left;\n",
       "    }\n",
       "\n",
       "    .dataframe tbody tr th {\n",
       "        vertical-align: top;\n",
       "    }\n",
       "</style>\n",
       "<table border=\"1\" class=\"dataframe\">\n",
       "  <thead>\n",
       "    <tr>\n",
       "      <th></th>\n",
       "      <th></th>\n",
       "      <th colspan=\"2\" halign=\"left\">count</th>\n",
       "    </tr>\n",
       "    <tr>\n",
       "      <th></th>\n",
       "      <th>type</th>\n",
       "      <th>cases</th>\n",
       "      <th>population</th>\n",
       "    </tr>\n",
       "    <tr>\n",
       "      <th>country</th>\n",
       "      <th>year</th>\n",
       "      <th></th>\n",
       "      <th></th>\n",
       "    </tr>\n",
       "  </thead>\n",
       "  <tbody>\n",
       "    <tr>\n",
       "      <th rowspan=\"2\" valign=\"top\">Afghanistan</th>\n",
       "      <th>1999</th>\n",
       "      <td>745</td>\n",
       "      <td>19987071</td>\n",
       "    </tr>\n",
       "    <tr>\n",
       "      <th>2000</th>\n",
       "      <td>2666</td>\n",
       "      <td>20595360</td>\n",
       "    </tr>\n",
       "    <tr>\n",
       "      <th rowspan=\"2\" valign=\"top\">Brazil</th>\n",
       "      <th>1999</th>\n",
       "      <td>37737</td>\n",
       "      <td>172006362</td>\n",
       "    </tr>\n",
       "    <tr>\n",
       "      <th>2000</th>\n",
       "      <td>80488</td>\n",
       "      <td>174504898</td>\n",
       "    </tr>\n",
       "    <tr>\n",
       "      <th rowspan=\"2\" valign=\"top\">China</th>\n",
       "      <th>1999</th>\n",
       "      <td>212258</td>\n",
       "      <td>1272915272</td>\n",
       "    </tr>\n",
       "    <tr>\n",
       "      <th>2000</th>\n",
       "      <td>213766</td>\n",
       "      <td>1280428583</td>\n",
       "    </tr>\n",
       "  </tbody>\n",
       "</table>\n",
       "</div>"
      ],
      "text/plain": [
       "                   count            \n",
       "type               cases  population\n",
       "country     year                    \n",
       "Afghanistan 1999     745    19987071\n",
       "            2000    2666    20595360\n",
       "Brazil      1999   37737   172006362\n",
       "            2000   80488   174504898\n",
       "China       1999  212258  1272915272\n",
       "            2000  213766  1280428583"
      ]
     },
     "execution_count": 16,
     "metadata": {},
     "output_type": "execute_result"
    },
    {
     "data": {
      "image/png": "[encoded data removed]",
      "text/plain": [
       "<matplotlib.figure.Figure at 0x112b00748>"
      ]
     },
     "metadata": {},
     "output_type": "display_data"
    }
   ],
   "source": [
    "\n",
    "\n",
    "print(table2)\n",
    "\n",
    "table2.pivot_table(values=['count'],\n",
    "                 index=('country', 'year'),\n",
    "                 columns=['type'])"
   ]
  },
  {
   "cell_type": "markdown",
   "metadata": {},
   "source": [
    "---\n",
    "## Strip plot / Swarm plot\n",
    "---\n",
    "Data: `channel-intensities.csv'  \n"
   ]
  },
  {
   "cell_type": "code",
   "execution_count": 118,
   "metadata": {},
   "outputs": [
    {
     "name": "stdout",
     "output_type": "stream",
     "text": [
      "Before tidying ... \n",
      "\n",
      "                                  filename       green        red      class\n",
      "0  20170524 GFP S404ATRF1 TELcenpB -01.tif   29.652738  36.168458  S404ATRF1\n",
      "1  20170524 GFP S404ATRF1 TELcenpB -02.tif   92.272702  57.936999  S404ATRF1\n",
      "2  20170524 GFP S404ATRF1 TELcenpB -03.tif  107.054840  52.005616  S404ATRF1\n",
      "3  20170524 GFP S404ATRF1 TELcenpB -04.tif   89.105632  53.957316  S404ATRF1\n",
      "4  20170524 GFP S404ATRF1 TELcenpB -05.tif   78.837595  65.192988  S404ATRF1\n",
      "\n",
      " After tidying ... \n",
      "\n",
      "                                  filename      class channel  intensity\n",
      "0  20170524 GFP S404ATRF1 TELcenpB -01.tif  S404ATRF1     red  36.168458\n",
      "1  20170524 GFP S404ATRF1 TELcenpB -02.tif  S404ATRF1     red  57.936999\n",
      "2  20170524 GFP S404ATRF1 TELcenpB -03.tif  S404ATRF1     red  52.005616\n",
      "3  20170524 GFP S404ATRF1 TELcenpB -04.tif  S404ATRF1     red  53.957316\n",
      "4  20170524 GFP S404ATRF1 TELcenpB -05.tif  S404ATRF1     red  65.192988\n"
     ]
    },
    {
     "data": {
      "text/plain": [
       "<matplotlib.text.Text at 0x117433be0>"
      ]
     },
     "execution_count": 118,
     "metadata": {},
     "output_type": "execute_result"
    },
    {
     "data": {
      "image/png": "[encoded data removed]",
      "text/plain": [
       "<matplotlib.figure.Figure at 0x119bf1198>"
      ]
     },
     "metadata": {},
     "output_type": "display_data"
    }
   ],
   "source": [
    "color_int_df = pd.read_csv('./mbs-datasets/channel-intensities.csv')\n",
    "color_int_df['class'] = color_int_df['filename'].apply(lambda fn: fn.split()[2])\n",
    "print(\"Before tidying ... \\n\")\n",
    "print(color_int_df.head())\n",
    "color_int_tidy_df = pd.melt(color_int_df, id_vars=['filename', 'class'],\n",
    "                            var_name='channel',\n",
    "                            value_vars=['red', 'green'],\n",
    "                            value_name='intensity')\n",
    "\n",
    "print(\"\\n After tidying ... \\n\")\n",
    "print(cint_tidy.head())\n",
    "\n",
    "\n",
    "# This will produce a figure with 4 axes arrange in 2 rows and 2 columns\n",
    "fig, axes = plt.subplots(2, 2, figsize=(10, 10)) \n",
    "\n",
    "sns.stripplot(x='class', y='intensity', hue='channel', ax = axes[0][0],\n",
    "              data=cint_tidy)\n",
    "sns.boxplot(x='class', y='intensity', hue='channel', ax = axes[0][0], data=cint_tidy)\n",
    "axes[0][0].set_title(\"Strip plot (no jitter, no split)\")\n",
    "sns.swarmplot(x='class', y='intensity', hue='channel', ax = axes[0][1],\n",
    "              data=cint_tidy)\n",
    "axes[0][1].set_title(\"Swarm plot\")\n",
    "sns.stripplot(x='class', y='intensity', hue='channel', ax = axes[1][0],\n",
    "              data=cint_tidy, jitter=True)\n",
    "axes[1][0].set_title(\"Strip plot (jitter but no split)\")\n",
    "sns.stripplot(x='class', y='intensity', hue='channel',ax = axes[1][1],\n",
    "              data=cint_tidy, jitter=True, split=True)\n",
    "axes[1][1].set_title(\"Strip plot (jitter and split)\")\n"
   ]
  },
  {
   "cell_type": "code",
   "execution_count": 105,
   "metadata": {},
   "outputs": [
    {
     "data": {
      "text/plain": [
       "<matplotlib.axes._subplots.AxesSubplot at 0x11280ae80>"
      ]
     },
     "execution_count": 105,
     "metadata": {},
     "output_type": "execute_result"
    },
    {
     "data": {
      "image/png": "[encoded data removed]",
      "text/plain": [
       "<matplotlib.figure.Figure at 0x1168b2f60>"
      ]
     },
     "metadata": {},
     "output_type": "display_data"
    }
   ],
   "source": [
    "green = (0.0, 1.0, 0.0)\n",
    "red = (1.0, 0.0, 0.0)\n",
    "blue = (0.0, 0.0, 1.0)\n",
    "palette = {'green': green, 'red': red, 'blue': blue}\n",
    "sns.stripplot(x='class', y='intensity', hue='channel',\n",
    "              data=cint_tidy, jitter=True, split=True,\n",
    "              palette=palette)\n"
   ]
  },
  {
   "cell_type": "code",
   "execution_count": null,
   "metadata": {
    "collapsed": true
   },
   "outputs": [],
   "source": []
  }
 ],
 "metadata": {
  "kernelspec": {
   "display_name": "Python 3",
   "language": "python",
   "name": "python3"
  },
  "language_info": {
   "codemirror_mode": {
    "name": "ipython",
    "version": 3
   },
   "file_extension": ".py",
   "mimetype": "text/x-python",
   "name": "python",
   "nbconvert_exporter": "python",
   "pygments_lexer": "ipython3",
   "version": "3.6.1"
  }
 },
 "nbformat": 4,
 "nbformat_minor": 2
}
